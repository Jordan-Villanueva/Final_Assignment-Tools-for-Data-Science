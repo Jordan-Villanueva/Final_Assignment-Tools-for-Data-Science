{
 "cells": [
  {
   "cell_type": "markdown",
   "id": "312a8a05",
   "metadata": {},
   "source": [
    "# Data Science Tools and Ecosystem"
   ]
  },
  {
   "cell_type": "markdown",
   "id": "5cb2465d",
   "metadata": {},
   "source": [
    "## *In this notebook, Data Science Tools and Ecosystems are summarized*"
   ]
  },
  {
   "cell_type": "markdown",
   "id": "337f6e7c",
   "metadata": {},
   "source": [
    "__Objectives:__\n",
    "* List popular Sciences for Data Science\n",
    "* List common libraries for Data Science\n",
    "* Create Markdown cells\n",
    "* Create tables and formatted text inside Markdown cells\n",
    "* Evaluate arithmetic expressions"
   ]
  },
  {
   "cell_type": "markdown",
   "id": "508e20c2",
   "metadata": {},
   "source": [
    "### **Some of the popular languages that Data Scientists use are:**\n",
    "1. Python\n",
    "2. SQL\n",
    "3. R\n",
    "4. Julia"
   ]
  },
  {
   "cell_type": "markdown",
   "id": "b43008c1",
   "metadata": {},
   "source": [
    "### ***Some of the commonly used libraries used by Data Scientists include:***\n",
    "1. TensorFlow\n",
    "2. SciPy\n",
    "3. NumPy\n",
    "4. Pandas\n",
    "5. Matplotlib"
   ]
  },
  {
   "cell_type": "markdown",
   "id": "6d1f75c2",
   "metadata": {},
   "source": [
    "|Data Science Tools|\n",
    "|------------------|\n",
    "|Apache Hadoop|\n",
    "|MongoDB|\n",
    "|Project Jupyter|"
   ]
  },
  {
   "cell_type": "markdown",
   "id": "abe01dca",
   "metadata": {},
   "source": [
    "### Below are a few examples of evaluating arithmetic expressions in Python"
   ]
  },
  {
   "cell_type": "code",
   "execution_count": 5,
   "id": "156b0720",
   "metadata": {},
   "outputs": [
    {
     "data": {
      "text/plain": [
       "17"
      ]
     },
     "execution_count": 5,
     "metadata": {},
     "output_type": "execute_result"
    }
   ],
   "source": [
    "# This is a simple arithmetic expression to multiply then add integers\n",
    "(3*4)+5"
   ]
  },
  {
   "cell_type": "code",
   "execution_count": 11,
   "id": "37cacbba",
   "metadata": {},
   "outputs": [
    {
     "data": {
      "text/plain": [
       "'200 minutes are equal to 3.3333333333333335 hours'"
      ]
     },
     "execution_count": 11,
     "metadata": {},
     "output_type": "execute_result"
    }
   ],
   "source": [
    "# This will convert 200 minutes to hours by dividing by 60\n",
    "hours = 200/60\n",
    "f\"200 minutes are equal to {hours} hours\""
   ]
  },
  {
   "cell_type": "markdown",
   "id": "abfffd24",
   "metadata": {},
   "source": [
    "## Author\n",
    "Jordan de Jesus Ortiz Villanueva"
   ]
  },
  {
   "cell_type": "code",
   "execution_count": null,
   "id": "6de20ee5",
   "metadata": {},
   "outputs": [],
   "source": []
  }
 ],
 "metadata": {
  "kernelspec": {
   "display_name": "Python 3 (ipykernel)",
   "language": "python",
   "name": "python3"
  },
  "language_info": {
   "codemirror_mode": {
    "name": "ipython",
    "version": 3
   },
   "file_extension": ".py",
   "mimetype": "text/x-python",
   "name": "python",
   "nbconvert_exporter": "python",
   "pygments_lexer": "ipython3",
   "version": "3.11.5"
  }
 },
 "nbformat": 4,
 "nbformat_minor": 5
}
